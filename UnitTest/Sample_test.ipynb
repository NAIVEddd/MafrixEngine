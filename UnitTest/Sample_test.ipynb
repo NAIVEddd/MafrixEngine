{
 "cells": [
  {
   "cell_type": "code",
   "execution_count": null,
   "metadata": {
    "dotnet_interactive": {
     "language": "csharp"
    },
    "vscode": {
     "languageId": "dotnet-interactive.csharp"
    }
   },
   "outputs": [
    {
     "data": {
      "text/html": [
       "<div><div></div><div></div><div><strong>Installed Packages</strong><ul><li><span>SkiaSharp, 2.88.1</span></li></ul></div></div>"
      ]
     },
     "metadata": {},
     "output_type": "display_data"
    },
    {
     "data": {
      "text/markdown": [
       "Loading extensions from `SkiaSharp.DotNet.Interactive.dll`"
      ]
     },
     "metadata": {},
     "output_type": "display_data"
    }
   ],
   "source": [
    "#r \"nuget: SkiaSharp\"\n",
    "using SkiaSharp;"
   ]
  },
  {
   "cell_type": "markdown",
   "metadata": {},
   "source": [
    "Example code of how to use SKImage and SKSurface ..."
   ]
  },
  {
   "cell_type": "code",
   "execution_count": null,
   "metadata": {
    "dotnet_interactive": {
     "language": "csharp"
    },
    "vscode": {
     "languageId": "dotnet-interactive.csharp"
    }
   },
   "outputs": [
    {
     "data": {
      "text/html": [
       "<div><img src=\"data:image/png;base64,iVBORw0KGgoAAAANSUhEUgAAAQAAAAEACAYAAABccqhmAAAABHNCSVQICAgIfAhkiAAAAx9JREFUeJzt1KEBACAMwLCN/3+GMxCNiK/qzszd3QF6zu8A4B8DgDADgDADgDADgDADgDADgDADgDADgDADgDADgDADgDADgDADgDADgDADgDADgDADgDADgDADgDADgDADgDADgDADgDADgDADgDADgDADgDADgDADgDADgDADgDADgDADgDADgDADgDADgDADgDADgDADgDADgDADgDADgDADgDADgDADgDADgDADgDADgDADgDADgDADgDADgDADgDADgDADgDADgDADgDADgDADgDADgDADgDADgDADgDADgDADgDADgDADgDADgDADgDADgDADgDADgDADgDADgDADgDADgDADgDADgDADgDADgDADgDADgDADgDADgDADgDADgDADgDADgDADgDADgDADgDADgDADgDADgDADgDADgDADgDADgDADgDADgDADgDADgDADgDADgDADgDADgDADgDADgDADgDADgDADgDADgDADgDADgDADgDADgDADgDADgDADgDADgDADgDADgDADgDADgDADgDADgDADgDADgDADgDADgDADgDADgDADgDADgDADgDADgDADgDADgDADgDADgDADgDADgDADgDADgDADgDADgDADgDADgDADgDADgDADgDADgDADgDADgDADgDADgDADgDADgDADgDADgDADgDADgDADgDADgDADgDADgDADgDADgDADgDADgDADgDADgDADgDADgDADgDADgDADgDADgDADgDADgDADgDADgDADgDADgDADgDADgDADgDADgDADgDADgDADgDADgDADgDADgDADgDADgDADgDADgDADgDADgDADgDADgDADgDADgDADgDADgDADgDADgDADgDADgDADgDADgDADgDADgDADgDADgDADgDADgDADgDADgDADgDADgDADgDADgDADgDADgDADgDADgDADgDADgDADgDADgDADgDADgDADgDADgDADgDADgDADgDADgDADgDADgDADgDADgDADgDADgDADgDADgDADgDADgDADgDADgDADgDADgLAHDFgDKZCIIK4AAAAASUVORK5CYII=\"></img></div>"
      ]
     },
     "metadata": {},
     "output_type": "display_data"
    }
   ],
   "source": [
    "SKImageInfo info = new SKImageInfo(256, 256);\n",
    "SKSurface surface = SKSurface.Create(info);\n",
    "SKCanvas canvas = surface.Canvas;\n",
    "\n",
    "canvas.Clear(SKColors.White);\n",
    "\n",
    "// configure our brush\n",
    "SKPaint redBrush = new SKPaint {\n",
    "    Color = new SKColor(0xff, 0, 0),\n",
    "    IsStroke = true\n",
    "};\n",
    "SKPaint blueBrush = new SKPaint {\n",
    "    Color = new SKColor(0, 0, 0xff),\n",
    "    IsStroke = true\n",
    "};\n",
    "\n",
    "for (int i = 0; i < 256; i++)\n",
    "{\n",
    "    for(int j = 0; j < 256; j++)\n",
    "    {\n",
    "        byte c = (byte)((i+j)%256);\n",
    "        SKColor color = new SKColor(c, c, c);\n",
    "        SKPoint point = new SKPoint(i, j);\n",
    "        canvas.DrawPoint(point, color);\n",
    "    }\n",
    "}\n",
    "        \n",
    "surface.Snapshot().Display();"
   ]
  },
  {
   "cell_type": "code",
   "execution_count": null,
   "metadata": {
    "dotnet_interactive": {
     "language": "csharp"
    },
    "vscode": {
     "languageId": "dotnet-interactive.csharp"
    }
   },
   "outputs": [
    {
     "ename": "Error",
     "evalue": "(1,4): error CS7010: 应是引用的文件名",
     "output_type": "error",
     "traceback": [
      "(1,4): error CS7010: 应是引用的文件名"
     ]
    }
   ],
   "source": [
    "#r \"../MafrixEngine/bin/Debug/net6.0/MafrixEngine.dll\"\n",
    "// Debug dll path : \"../MafrixEngine/bin/Debug/net6.0/MafrixEngine.dll\"\n",
    "// Release dll path : \"../MafrixEngine/bin/Release/net6.0/MafrixEngine.dll\"\n",
    "using MafrixEngine;\n"
   ]
  }
 ],
 "metadata": {
  "kernelspec": {
   "display_name": ".NET (C#)",
   "language": "C#",
   "name": ".net-csharp"
  },
  "language_info": {
   "file_extension": ".cs",
   "mimetype": "text/x-csharp",
   "name": "C#",
   "pygments_lexer": "csharp",
   "version": "9.0"
  },
  "orig_nbformat": 4
 },
 "nbformat": 4,
 "nbformat_minor": 2
}
